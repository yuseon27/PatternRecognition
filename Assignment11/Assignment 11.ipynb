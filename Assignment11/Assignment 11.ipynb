{
 "cells": [
  {
   "cell_type": "markdown",
   "metadata": {},
   "source": [
    "20163228 Yuseon Nam"
   ]
  },
  {
   "cell_type": "code",
   "execution_count": 1,
   "metadata": {},
   "outputs": [],
   "source": [
    "import matplotlib.pyplot as plt\n",
    "import numpy as np\n",
    "from sklearn.metrics import confusion_matrix\n",
    "import pandas as pd\n",
    "import random"
   ]
  },
  {
   "cell_type": "markdown",
   "metadata": {},
   "source": [
    "# Read Files"
   ]
  },
  {
   "cell_type": "code",
   "execution_count": 2,
   "metadata": {},
   "outputs": [],
   "source": [
    "#\n",
    "# Read Train File\t\n",
    "#\n",
    "size_row    = 28    # height of the image\n",
    "size_col    = 28    # width of the image\n",
    "\n",
    "train_file  = \"mnist_train.csv\"\n",
    "\n",
    "handle_file = open(train_file, \"r\")\n",
    "train_data  = handle_file.readlines()\n",
    "handle_file.close()\n",
    "\n",
    "train_num   = len(train_data)\n",
    "\n",
    "train_list  = np.zeros((train_num, size_row * size_col), dtype=float)\n",
    "train_a     = np.zeros((train_num, size_row * size_col + 1), dtype=float)\n",
    "train_label = np.zeros((10, train_num), dtype=int)\n",
    "train_original_label = np.zeros(train_num, dtype=int)\n",
    "\n",
    "count = 0\n",
    "label = 2\n",
    "for line in train_data :\n",
    "    line_data = line.split(',')\n",
    "    train_original_label[count] = line_data[0]\n",
    "    \n",
    "    for i in range (10) :\n",
    "        if (line_data[0] == str(i)) :\n",
    "            train_label[i, count] = 1\n",
    "        else :\n",
    "            train_label[i, count] = -1\n",
    "    \n",
    "    # Image Vector\n",
    "    im_vector = np.asfarray(line_data[1:])\n",
    "    train_list[count, :] = im_vector\n",
    "    \n",
    "    train_a[count, 0]    = 1\n",
    "    train_a[count, 1:]   = im_vector\n",
    "    count += 1"
   ]
  },
  {
   "cell_type": "code",
   "execution_count": 3,
   "metadata": {},
   "outputs": [],
   "source": [
    "#\n",
    "# Read Test File\n",
    "#\n",
    "test_file   = \"mnist_test.csv\"\n",
    "\n",
    "handle_file = open(test_file, \"r\")\n",
    "test_data   = handle_file.readlines()\n",
    "handle_file.close()\n",
    "\n",
    "test_num    = len(test_data)\n",
    "\n",
    "test_list   = np.zeros((test_num, size_row * size_col), dtype=float)\n",
    "test_a      = np.zeros((test_num, size_row * size_col + 1), dtype=float)\n",
    "test_label = np.zeros((10, test_num), dtype=int)\n",
    "test_original_label = np.zeros(test_num, dtype=int)\n",
    "\n",
    "count = 0\n",
    "label = -2\n",
    "for line in test_data :\n",
    "    line_data = line.split(',')\n",
    "    test_original_label[count] = line_data[0]\n",
    "    \n",
    "    for i in range (10) :\n",
    "        if (line_data[0] == str(i)) :\n",
    "            test_label[i, count] = 1\n",
    "        else :\n",
    "            test_label[i, count] = -1\n",
    "    \n",
    "    im_vector = np.asfarray(line_data[1:])\n",
    "    test_list[count, :] = im_vector\n",
    "    \n",
    "    test_a[count, 0]    = 1\n",
    "    test_a[count, 1:]   = im_vector\n",
    "    count += 1"
   ]
  },
  {
   "cell_type": "markdown",
   "metadata": {},
   "source": [
    "# Make Random Vector"
   ]
  },
  {
   "cell_type": "code",
   "execution_count": 4,
   "metadata": {},
   "outputs": [],
   "source": [
    "k = 5000\n",
    "random_vector = np.zeros((k, size_row * size_col), dtype=float)\n",
    "\n",
    "for i in range (k) :\n",
    "    for j in range(size_row * size_col) :\n",
    "        random_vector[i, j] = random.gauss(0, 1)"
   ]
  },
  {
   "cell_type": "code",
   "execution_count": null,
   "metadata": {},
   "outputs": [],
   "source": [
    "def calculate_new_a(original_img) :\n",
    "    num = len(original_img)\n",
    "    new_a = np.zeros((num, k+1), dtype=float)\n",
    "    \n",
    "    new_a[:, 0] = 1\n",
    "    new_a[:, 1:] = np.dot(original_img, random_vector.T)\n",
    "    \n",
    "    for i in range(num) :\n",
    "        for j in range (1, k+1) :\n",
    "            new_a[i, j] = max(new_a[i, j], 0)\n",
    "            \n",
    "    return new_a"
   ]
  },
  {
   "cell_type": "code",
   "execution_count": null,
   "metadata": {},
   "outputs": [],
   "source": [
    "new_train_a = np.zeros((train_num, k+1), dtype=float)\n",
    "new_train_a = calculate_new_a(train_list)"
   ]
  },
  {
   "cell_type": "code",
   "execution_count": null,
   "metadata": {},
   "outputs": [],
   "source": [
    "new_test_a = np.zeros((test_num, k+1), dtype=float)\n",
    "new_test_a = calculate_new_a(test_list)"
   ]
  },
  {
   "cell_type": "markdown",
   "metadata": {},
   "source": [
    "# Solve Least Square Problem"
   ]
  },
  {
   "cell_type": "code",
   "execution_count": null,
   "metadata": {},
   "outputs": [],
   "source": [
    "def cal_least_square(image, label) :\n",
    "    n = len(label)\n",
    "    \n",
    "    trans_image = image.T\n",
    "    ata = np.dot(trans_image, image)\n",
    "    \n",
    "    re_label = label.reshape(n, 1)\n",
    "    atb = np.dot(trans_image, re_label)\n",
    "    \n",
    "    mati_ata = np.linalg.pinv(ata)\n",
    "    mat_atb  = np.asmatrix(atb)\n",
    "    aia = np.dot(mati_ata, mat_atb)\n",
    "    \n",
    "    return aia"
   ]
  },
  {
   "cell_type": "code",
   "execution_count": null,
   "metadata": {},
   "outputs": [],
   "source": [
    "theta = np.zeros((10, k + 1), dtype=float)\n",
    "for i in range(10) :\n",
    "    setaa    = cal_least_square(new_train_a, train_label[i, :])\n",
    "    theta[i] = setaa.reshape(k+1)"
   ]
  },
  {
   "cell_type": "markdown",
   "metadata": {},
   "source": [
    "# Calculate y and label according to argmax"
   ]
  },
  {
   "cell_type": "code",
   "execution_count": null,
   "metadata": {},
   "outputs": [],
   "source": [
    "train_y = np.zeros((train_num, 10), dtype=float)\n",
    "test_y  = np.zeros((test_num, 10) , dtype=float)\n",
    "\n",
    "for i in range (10) :\n",
    "    train_y[:, i] = np.dot(new_train_a, theta[i])\n",
    "    test_y[: , i] = np.dot(new_test_a , theta[i])"
   ]
  },
  {
   "cell_type": "code",
   "execution_count": null,
   "metadata": {},
   "outputs": [],
   "source": [
    "train_pred = np.zeros(train_num, dtype=int)\n",
    "test_pred  = np.zeros(test_num,  dtype=int)\n",
    "\n",
    "for i in range (train_num) :\n",
    "    train_pred[i] = train_y[i, :].argmax()\n",
    "    \n",
    "for i in range (test_num) :\n",
    "    test_pred[i] = test_y[i, :].argmax()"
   ]
  },
  {
   "cell_type": "markdown",
   "metadata": {},
   "source": [
    "# Calculate Accuracy"
   ]
  },
  {
   "cell_type": "markdown",
   "metadata": {},
   "source": [
    "## Train Data"
   ]
  },
  {
   "cell_type": "code",
   "execution_count": null,
   "metadata": {},
   "outputs": [],
   "source": [
    "train_result = confusion_matrix(train_original_label, train_pred) \n",
    "print(train_result)"
   ]
  },
  {
   "cell_type": "code",
   "execution_count": null,
   "metadata": {},
   "outputs": [],
   "source": [
    "# Calculate true positive rate & error rate\n",
    "train_tp  = 0\n",
    "train_err = 0\n",
    "for i in range (10) :\n",
    "    train_tp += train_result[i][i]\n",
    "    \n",
    "train_tp /= train_num\n",
    "train_err = 1 - train_tp"
   ]
  },
  {
   "cell_type": "code",
   "execution_count": null,
   "metadata": {},
   "outputs": [],
   "source": [
    "print(\"Train Data\")\n",
    "print(\"True Positive Rate : \", train_tp)\n",
    "print(\"Error Rate         : \", train_err)"
   ]
  },
  {
   "cell_type": "markdown",
   "metadata": {},
   "source": [
    "## Test Data"
   ]
  },
  {
   "cell_type": "code",
   "execution_count": null,
   "metadata": {},
   "outputs": [],
   "source": [
    "test_result  = confusion_matrix(test_original_label , test_pred)\n",
    "print(test_result)"
   ]
  },
  {
   "cell_type": "code",
   "execution_count": null,
   "metadata": {},
   "outputs": [],
   "source": [
    "# Calculate true positive rate & error rate\n",
    "test_tp  = 0\n",
    "test_err = 0\n",
    "for i in range (10) :\n",
    "    test_tp += test_result[i][i]\n",
    "    \n",
    "test_tp /= test_num\n",
    "test_err = 1 - test_tp"
   ]
  },
  {
   "cell_type": "code",
   "execution_count": null,
   "metadata": {},
   "outputs": [],
   "source": [
    "print(\"Test Data\")\n",
    "print(\"True Positive Rate : \", test_tp)\n",
    "print(\"Error Rate         : \", test_err)"
   ]
  }
 ],
 "metadata": {
  "kernelspec": {
   "display_name": "Python 3",
   "language": "python",
   "name": "python3"
  },
  "language_info": {
   "codemirror_mode": {
    "name": "ipython",
    "version": 3
   },
   "file_extension": ".py",
   "mimetype": "text/x-python",
   "name": "python",
   "nbconvert_exporter": "python",
   "pygments_lexer": "ipython3",
   "version": "3.7.1"
  }
 },
 "nbformat": 4,
 "nbformat_minor": 2
}
