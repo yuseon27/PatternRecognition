{
 "cells": [
  {
   "cell_type": "markdown",
   "metadata": {},
   "source": [
    "20163228 Yuseon Nam"
   ]
  },
  {
   "cell_type": "code",
   "execution_count": 1,
   "metadata": {},
   "outputs": [],
   "source": [
    "import PIL.Image as pilimg\n",
    "import numpy as np\n",
    "import matplotlib.pyplot as plt\n",
    "import random\n",
    "import copy\n",
    "import math"
   ]
  },
  {
   "cell_type": "code",
   "execution_count": 2,
   "metadata": {},
   "outputs": [],
   "source": [
    "# Make x and y domain matrix\n",
    "def make_domain_matrix() :\n",
    "    xy_matrix = np.zeros((row_size, col_size, 2), dtype=int)\n",
    "        \n",
    "    for r in range(row_size) :\n",
    "        xy_matrix[r, :, 0] = r\n",
    "        \n",
    "    for c in range(col_size) :\n",
    "        xy_matrix[:, c, 1] = c\n",
    "        \n",
    "    xy_matrix = xy_matrix / pix_size\n",
    "\n",
    "    return (xy_matrix)\n",
    "\n",
    "\n",
    "# Distance function between two vectors x and y\n",
    "def distance(x, y):\n",
    "    \n",
    "    d = (x - y) ** 2\n",
    "    s = np.sum(d)\n",
    "    \n",
    "    return(s)\n",
    "\n",
    "\n",
    "# Plot image\n",
    "def plot_image(img) :\n",
    "    plt.imshow(img)\n",
    "    plt.axis('off')\n",
    "    plt.show()\n",
    "    \n",
    "    \n",
    "# Plot energy\n",
    "def plot_energy(energy) :\n",
    "    plt.plot(energy)\n",
    "    plt.show()"
   ]
  },
  {
   "cell_type": "code",
   "execution_count": 3,
   "metadata": {},
   "outputs": [],
   "source": [
    "class KMeans() :\n",
    "    def __init__(self, k, lamda) : \n",
    "        self.k = k\n",
    "        self.lamda = lamda\n",
    "        \n",
    "        self.cur_label  = np.zeros((row_size, col_size), dtype=int)\n",
    "        self.prev_label = np.zeros((row_size, col_size), dtype=int)\n",
    "        \n",
    "        self.centroid_rgb = np.zeros((self.k, 3), dtype=float)\n",
    "        self.centroid_xy    = np.zeros((self.k, 2), dtype=float)\n",
    "        self.centroid_count = np.zeros((self.k, 3), dtype=int)\n",
    "        \n",
    "        self.energy_list = []\n",
    "        \n",
    "    \n",
    "    def calculate_distance(self, r, c, i) :\n",
    "        \n",
    "        rgb_dist = distance(normalized_img[r, c, :], self.centroid_rgb[i, :])\n",
    "        xy_dist  = distance(xy_domain[r, c, :], self.centroid_xy[i, :])\n",
    "        \n",
    "        dist_sum = rgb_dist + self.lamda * xy_dist\n",
    "        \n",
    "        return dist_sum\n",
    "    \n",
    "    \n",
    "    def init_centroid(self) :       \n",
    "        for r in range (row_size) :\n",
    "            for c in range (col_size) :\n",
    "                rand_label = random.randint(0, self.k-1)\n",
    "                self.cur_label[r][c] = rand_label\n",
    "    \n",
    "    \n",
    "    def update_centroid(self) :\n",
    "        \n",
    "        self.centroid_rgb = np.zeros((self.k, 3), dtype=float)\n",
    "        self.centroid_xy    = np.zeros((self.k, 2), dtype=float)\n",
    "        self.centroid_count = np.zeros((self.k), dtype=int)\n",
    "        \n",
    "        # Sum up the element value by label\n",
    "        for r in range (row_size) :\n",
    "            for c in range (col_size) :\n",
    "                label = self.cur_label[r][c]\n",
    "                self.centroid_rgb[label, :] += normalized_img[r, c, :]\n",
    "                self.centroid_xy[label, :]  += xy_domain[r, c, :]\n",
    "                self.centroid_count[label]  += 1\n",
    "                \n",
    "        \n",
    "        # Calculate the centroid value\n",
    "        for i in range (self.k) :\n",
    "            if (self.centroid_count[i] != 0) :\n",
    "                self.centroid_rgb[i] /= self.centroid_count[i]\n",
    "                self.centroid_xy[i]  /= self.centroid_count[i]\n",
    "                \n",
    "    \n",
    "    def labeling(self) :\n",
    "        energy_sum = 0\n",
    "        \n",
    "        # Label for each element\n",
    "        for r in range (row_size) :\n",
    "            for c in range(col_size) :\n",
    "                dist_list = np.zeros(self.k, dtype=float)\n",
    "                \n",
    "                # Calculate distance between each centroid and element\n",
    "                for i in range (self.k) :\n",
    "                    rgb = normalized_img[r, c, :]\n",
    "                    xy = xy_domain[r, c, :]\n",
    "                    dist_list[i] = self.calculate_distance(r, c, i)\n",
    "                \n",
    "    \n",
    "                # Find minimum distance and its index\n",
    "                min_dist = min(dist_list)\n",
    "                min_index = np.argmin(dist_list)\n",
    "                \n",
    "                # Put min index in the label\n",
    "                self.cur_label[r][c] = min_index\n",
    "                \n",
    "                # Sum Energy\n",
    "                energy_sum += min_dist\n",
    "                \n",
    "        # Calculate Iteration Energy\n",
    "        energy = energy_sum / (row_size * col_size)\n",
    "#         print(\"Energy :\", energy)\n",
    "        self.energy_list.append(energy)\n",
    "        \n",
    "    \n",
    "    def make_image(self) :\n",
    "        \n",
    "        kmeans_image = np.zeros((row_size, col_size, 3), dtype=\"uint8\")\n",
    "        \n",
    "        for r in range (row_size) :\n",
    "            for c in range (col_size) :\n",
    "                label = self.cur_label[r][c]\n",
    "                kmeans_image[r, c, :] = self.centroid_rgb[label, :] * std + mean\n",
    "                \n",
    "        origin_rgb = self.centroid_rgb * std + mean\n",
    "#         print(\"Original RGB\")\n",
    "#         print(origin_rgb)\n",
    "                \n",
    "        return (kmeans_image)\n",
    "    \n",
    "    \n",
    "    def train(self) :\n",
    "        \n",
    "        self.iter = 0\n",
    "        self.init_centroid()\n",
    "            \n",
    "#         # Just for test\n",
    "#         kmeans_img = self.make_image()\n",
    "#         plot_image(kmeans_img)\n",
    "        \n",
    "        while not (np.array_equal(self.cur_label, self.prev_label)) :\n",
    "            \n",
    "            self.update_centroid()\n",
    "            \n",
    "#             # Just for test\n",
    "#             print(\"=====================\",self.iter,\"============================\")\n",
    "#             print(\"RGB\")\n",
    "#             print(self.centroid_rgb)\n",
    "#             print(\"XY\")\n",
    "#             print(self.centroid_xy)\n",
    "            \n",
    "#             kmeans_img = self.make_image()\n",
    "#             plot_image(kmeans_img)\n",
    "            \n",
    "            self.prev_label = copy.deepcopy(self.cur_label)\n",
    "            \n",
    "            self.iter += 1\n",
    "            \n",
    "            self.labeling()\n",
    "            \n",
    "            \n",
    "        # Make cur_center_label as image\n",
    "        kmeans_img = self.make_image()\n",
    "        \n",
    "        return (kmeans_img, self.energy_list)\n",
    "                "
   ]
  },
  {
   "cell_type": "code",
   "execution_count": 4,
   "metadata": {},
   "outputs": [
    {
     "name": "stdout",
     "output_type": "stream",
     "text": [
      "(771, 420, 3)\n",
      "<class 'numpy.uint8'>\n",
      "[132.08024211 172.46931011 165.69481193]\n",
      "[64.09014854 40.20294465 43.99573457]\n"
     ]
    },
    {
     "data": {
      "image/png": "[encoded data removed]",
      "text/plain": [
       "<Figure size 432x288 with 1 Axes>"
      ]
     },
     "metadata": {
      "needs_background": "light"
     },
     "output_type": "display_data"
    }
   ],
   "source": [
    "# Read image\n",
    "im = pilimg.open(\"img.jpg\")\n",
    "\n",
    "# Make and image as array\n",
    "origin_img = np.array(im)\n",
    "\n",
    "# Show image\n",
    "plt.imshow(origin_img)\n",
    "plt.axis('off')\n",
    "\n",
    "# Check image size\n",
    "print(np.shape(origin_img))\n",
    "print(type(origin_img[0][0][0]))\n",
    "\n",
    "row_size = len(origin_img)\n",
    "col_size = len(origin_img[0])\n",
    "pix_size = row_size * col_size\n",
    "\n",
    "# Calculate mean and std\n",
    "mean = np.zeros(3, dtype=float)\n",
    "std  = np.zeros(3, dtype=float)\n",
    "\n",
    "for i in range (3) :\n",
    "    mean[i] = np.mean(origin_img[:, :, i])\n",
    "    std[i]  = np.std(origin_img[:, :, i])\n",
    "\n",
    "print(mean)\n",
    "print(std)\n",
    "\n",
    "# normalized image\n",
    "normalized_img = (origin_img - mean) / std\n",
    "\n",
    "# Make normalized xy domain of image\n",
    "xy_domain = make_domain_matrix()"
   ]
  },
  {
   "cell_type": "code",
   "execution_count": null,
   "metadata": {},
   "outputs": [],
   "source": [
    "def kmeans(k_num, lamda) :\n",
    "    k_means= KMeans(k_num, lamda)\n",
    "    kmeans_image, kmeans_energy = k_means.train()\n",
    "\n",
    "    plot_image(kmeans_image)\n",
    "    plot_energy(kmeans_energy)"
   ]
  },
  {
   "cell_type": "markdown",
   "metadata": {},
   "source": [
    "# K = 2"
   ]
  },
  {
   "cell_type": "markdown",
   "metadata": {},
   "source": [
    "## λ = 0.1"
   ]
  },
  {
   "cell_type": "code",
   "execution_count": null,
   "metadata": {},
   "outputs": [],
   "source": [
    "kmeans(k_num=2, lamda=0.1)"
   ]
  },
  {
   "cell_type": "markdown",
   "metadata": {},
   "source": [
    "### λ = 1"
   ]
  },
  {
   "cell_type": "code",
   "execution_count": null,
   "metadata": {},
   "outputs": [],
   "source": [
    "kmeans(k_num=2, lamda=1)"
   ]
  },
  {
   "cell_type": "markdown",
   "metadata": {},
   "source": [
    "## λ = 10"
   ]
  },
  {
   "cell_type": "code",
   "execution_count": null,
   "metadata": {},
   "outputs": [],
   "source": [
    "kmeans(k_num=2, lamda=10)"
   ]
  },
  {
   "cell_type": "markdown",
   "metadata": {},
   "source": [
    "# K = 4"
   ]
  },
  {
   "cell_type": "markdown",
   "metadata": {},
   "source": [
    "## λ = 0.1"
   ]
  },
  {
   "cell_type": "code",
   "execution_count": null,
   "metadata": {},
   "outputs": [],
   "source": [
    "kmeans(k_num=4, lamda=0.1)"
   ]
  },
  {
   "cell_type": "markdown",
   "metadata": {},
   "source": [
    "## λ = 1"
   ]
  },
  {
   "cell_type": "code",
   "execution_count": null,
   "metadata": {},
   "outputs": [],
   "source": [
    "kmeans(k_num=4, lamda=1)"
   ]
  },
  {
   "cell_type": "markdown",
   "metadata": {},
   "source": [
    "## λ = 10"
   ]
  },
  {
   "cell_type": "code",
   "execution_count": null,
   "metadata": {},
   "outputs": [],
   "source": [
    "kmeans(k_num=4, lamda=10)"
   ]
  },
  {
   "cell_type": "markdown",
   "metadata": {},
   "source": [
    "# K = 8"
   ]
  },
  {
   "cell_type": "markdown",
   "metadata": {},
   "source": [
    "## λ = 0.1"
   ]
  },
  {
   "cell_type": "code",
   "execution_count": null,
   "metadata": {},
   "outputs": [],
   "source": [
    "kmeans(k_num=8, lamda=0.1)"
   ]
  },
  {
   "cell_type": "markdown",
   "metadata": {},
   "source": [
    "## λ = 1"
   ]
  },
  {
   "cell_type": "code",
   "execution_count": null,
   "metadata": {},
   "outputs": [],
   "source": [
    "kmeans(k_num=8, lamda=1)"
   ]
  },
  {
   "cell_type": "markdown",
   "metadata": {},
   "source": [
    "## λ = 10"
   ]
  },
  {
   "cell_type": "code",
   "execution_count": null,
   "metadata": {},
   "outputs": [],
   "source": [
    "kmeans(k_num=8, lamda=10)"
   ]
  }
 ],
 "metadata": {
  "kernelspec": {
   "display_name": "Python 3",
   "language": "python",
   "name": "python3"
  },
  "language_info": {
   "codemirror_mode": {
    "name": "ipython",
    "version": 3
   },
   "file_extension": ".py",
   "mimetype": "text/x-python",
   "name": "python",
   "nbconvert_exporter": "python",
   "pygments_lexer": "ipython3",
   "version": "3.7.1"
  }
 },
 "nbformat": 4,
 "nbformat_minor": 2
}
