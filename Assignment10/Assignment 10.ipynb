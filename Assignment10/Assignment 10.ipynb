{
 "cells": [
  {
   "cell_type": "markdown",
   "metadata": {},
   "source": [
    "20163228 남유선"
   ]
  },
  {
   "cell_type": "code",
   "execution_count": 1,
   "metadata": {},
   "outputs": [],
   "source": [
    "import matplotlib.pyplot as plt\n",
    "import numpy as np\n",
    "from sklearn.metrics import confusion_matrix\n",
    "from sklearn.metrics import classification_report\n",
    "import pandas as pd"
   ]
  },
  {
   "cell_type": "markdown",
   "metadata": {},
   "source": [
    "# Read Files"
   ]
  },
  {
   "cell_type": "code",
   "execution_count": 2,
   "metadata": {},
   "outputs": [],
   "source": [
    "#\n",
    "# Read Train File\t\n",
    "#\n",
    "size_row    = 28    # height of the image\n",
    "size_col    = 28    # width of the image\n",
    "\n",
    "train_file  = \"mnist_train.csv\"\n",
    "\n",
    "handle_file = open(train_file, \"r\")\n",
    "train_data  = handle_file.readlines()\n",
    "handle_file.close()\n",
    "\n",
    "train_num   = len(train_data)\n",
    "\n",
    "train_list  = np.zeros((train_num, size_row * size_col), dtype=float)\n",
    "train_a     = np.zeros((train_num, size_row * size_col + 1), dtype=float)\n",
    "train_label = np.zeros((10, train_num), dtype=int)\n",
    "train_original_label = np.zeros(train_num, dtype=int)\n",
    "\n",
    "count = 0\n",
    "label = 2\n",
    "for line in train_data :\n",
    "    line_data = line.split(',')\n",
    "    train_original_label[count] = line_data[0]\n",
    "    \n",
    "    for i in range (10) :\n",
    "        if (line_data[0] == str(i)) :\n",
    "            train_label[i, count] = 1\n",
    "        else :\n",
    "            train_label[i, count] = -1\n",
    "    \n",
    "    # Image Vector\n",
    "    im_vector = np.asfarray(line_data[1:])\n",
    "    train_list[count, :] = im_vector\n",
    "    \n",
    "    train_a[count, 0]    = 1\n",
    "    train_a[count, 1:]   = im_vector\n",
    "    count += 1"
   ]
  },
  {
   "cell_type": "code",
   "execution_count": 3,
   "metadata": {},
   "outputs": [],
   "source": [
    "#\n",
    "# Read Test File\n",
    "#\n",
    "test_file   = \"mnist_test.csv\"\n",
    "\n",
    "handle_file = open(test_file, \"r\")\n",
    "test_data   = handle_file.readlines()\n",
    "handle_file.close()\n",
    "\n",
    "test_num    = len(test_data)\n",
    "\n",
    "test_list   = np.zeros((test_num, size_row * size_col), dtype=float)\n",
    "test_a      = np.zeros((test_num, size_row * size_col + 1), dtype=float)\n",
    "test_label = np.zeros((10, test_num), dtype=int)\n",
    "test_original_label = np.zeros(test_num, dtype=int)\n",
    "\n",
    "count = 0\n",
    "label = -2\n",
    "for line in test_data :\n",
    "    line_data = line.split(',')\n",
    "    test_original_label[count] = line_data[0]\n",
    "    \n",
    "    for i in range (10) :\n",
    "        if (line_data[0] == str(i)) :\n",
    "            test_label[i, count] = 1\n",
    "        else :\n",
    "            test_label[i, count] = -1\n",
    "    \n",
    "    im_vector = np.asfarray(line_data[1:])\n",
    "    test_list[count, :] = im_vector\n",
    "    \n",
    "    test_a[count, 0]    = 1\n",
    "    test_a[count, 1:]   = im_vector\n",
    "    count += 1"
   ]
  },
  {
   "cell_type": "markdown",
   "metadata": {},
   "source": [
    "# Calculate Pseudo Inverse"
   ]
  },
  {
   "cell_type": "code",
   "execution_count": 4,
   "metadata": {},
   "outputs": [],
   "source": [
    "class LeastSquare() :\n",
    "    \n",
    "    def __init__(self, image, label) :\n",
    "        self.image = image\n",
    "        self.label = label\n",
    "        self.n     = len(label)\n",
    "        self.m     = len(image[0])\n",
    "        \n",
    "        \n",
    "    def calculate_ata(self) :\n",
    "        self.trans_image = self.image.T\n",
    "        self.ata = np.dot(self.trans_image, self.image)\n",
    "        \n",
    "        \n",
    "    def calculate_atb(self) :\n",
    "        re_label = self.label.reshape(self.n, 1)\n",
    "        self.atb = np.dot(self.trans_image, re_label)\n",
    "        \n",
    "        \n",
    "    def calculate_theta(self) :\n",
    "        mati_ata = np.linalg.pinv(self.ata)\n",
    "        mat_atb = np.asmatrix(self.atb)\n",
    "        self.aia = np.dot(mati_ata, mat_atb)\n",
    "        \n",
    "        \n",
    "    def train(self) :\n",
    "        self.calculate_ata()\n",
    "        self.calculate_atb()\n",
    "        \n",
    "        self.calculate_theta()\n",
    "        \n",
    "        return self.aia"
   ]
  },
  {
   "cell_type": "code",
   "execution_count": 5,
   "metadata": {},
   "outputs": [],
   "source": [
    "theta = np.zeros((10, size_row * size_col + 1), dtype=float)\n",
    "for i in range (10) :\n",
    "    ls       = LeastSquare(train_a, train_label[i, :])\n",
    "    setaa    = ls.train()\n",
    "    theta[i] = setaa.reshape(785)"
   ]
  },
  {
   "cell_type": "markdown",
   "metadata": {},
   "source": [
    "# Calculate y and label according to argmax"
   ]
  },
  {
   "cell_type": "code",
   "execution_count": 6,
   "metadata": {},
   "outputs": [],
   "source": [
    "train_y = np.zeros((train_num, 10), dtype=float)\n",
    "test_y  = np.zeros((test_num, 10) , dtype=float)\n",
    "\n",
    "for i in range (10) :\n",
    "    train_y[:, i] = np.dot(train_a, theta[i])\n",
    "    test_y[: , i] = np.dot(test_a , theta[i])"
   ]
  },
  {
   "cell_type": "code",
   "execution_count": 7,
   "metadata": {},
   "outputs": [],
   "source": [
    "train_pred = np.zeros(train_num, dtype=int)\n",
    "test_pred  = np.zeros(test_num,  dtype=int)\n",
    "\n",
    "for i in range (train_num) :\n",
    "    train_pred[i] = train_y[i, :].argmax()\n",
    "    \n",
    "for i in range (test_num) :\n",
    "    test_pred[i] = test_y[i, :].argmax()"
   ]
  },
  {
   "cell_type": "markdown",
   "metadata": {},
   "source": [
    "# Calculate Accuracy"
   ]
  },
  {
   "cell_type": "markdown",
   "metadata": {},
   "source": [
    "## Train Data"
   ]
  },
  {
   "cell_type": "code",
   "execution_count": 8,
   "metadata": {},
   "outputs": [
    {
     "name": "stdout",
     "output_type": "stream",
     "text": [
      "[[5682    7   18   14   24   43   64    4   61    6]\n",
      " [   2 6548   40   15   19   31   14   12   55    6]\n",
      " [  99  264 4792  149  108   11  234   91  192   18]\n",
      " [  42  167  176 5158   32  125   56  115  135  125]\n",
      " [  10   99   42    6 5212   50   39   23   59  302]\n",
      " [ 164   95   28  432  105 3991  192   36  235  143]\n",
      " [ 108   74   61    1   70   90 5476    0   35    3]\n",
      " [  55  189   37   47  170    9    2 5426   10  320]\n",
      " [  75  493   63  226  105  221   56   20 4412  180]\n",
      " [  68   60   20  117  371   12    4  492   38 4767]]\n"
     ]
    }
   ],
   "source": [
    "train_result = confusion_matrix(train_original_label, train_pred) \n",
    "print(train_result)"
   ]
  },
  {
   "cell_type": "code",
   "execution_count": 9,
   "metadata": {},
   "outputs": [],
   "source": [
    "# Calculate true positive rate & error rate\n",
    "train_tp  = 0\n",
    "train_err = 0\n",
    "for i in range (10) :\n",
    "    train_tp += train_result[i][i]\n",
    "    \n",
    "train_tp /= train_num\n",
    "train_err = 1 - train_tp"
   ]
  },
  {
   "cell_type": "code",
   "execution_count": 10,
   "metadata": {},
   "outputs": [
    {
     "name": "stdout",
     "output_type": "stream",
     "text": [
      "Train Data\n",
      "True Positive Rate :  0.8577333333333333\n",
      "Error Rate         :  0.14226666666666665\n"
     ]
    }
   ],
   "source": [
    "print(\"Train Data\")\n",
    "print(\"True Positive Rate : \", train_tp)\n",
    "print(\"Error Rate         : \", train_err)"
   ]
  },
  {
   "cell_type": "markdown",
   "metadata": {},
   "source": [
    "## Test Data"
   ]
  },
  {
   "cell_type": "code",
   "execution_count": 11,
   "metadata": {},
   "outputs": [
    {
     "name": "stdout",
     "output_type": "stream",
     "text": [
      "[[ 944    0    1    2    2    7   14    2    7    1]\n",
      " [   0 1107    2    2    3    1    5    1   14    0]\n",
      " [  18   54  813   26   15    0   42   22   37    5]\n",
      " [   4   17   23  880    5   17    9   21   22   12]\n",
      " [   0   22    6    1  881    5   10    2   11   44]\n",
      " [  23   18    3   72   24  659   23   14   39   17]\n",
      " [  18   10    9    0   22   17  875    0    7    0]\n",
      " [   5   40   16    6   26    0    1  884    0   50]\n",
      " [  14   46   11   30   27   40   15   12  759   20]\n",
      " [  15   11    2   17   80    1    1   77    4  801]]\n"
     ]
    }
   ],
   "source": [
    "test_result  = confusion_matrix(test_original_label , test_pred)\n",
    "print(test_result)"
   ]
  },
  {
   "cell_type": "code",
   "execution_count": 12,
   "metadata": {},
   "outputs": [],
   "source": [
    "# Calculate true positive rate & error rate\n",
    "test_tp  = 0\n",
    "test_err = 0\n",
    "for i in range (10) :\n",
    "    test_tp += test_result[i][i]\n",
    "    \n",
    "test_tp /= test_num\n",
    "test_err = 1 - test_tp"
   ]
  },
  {
   "cell_type": "code",
   "execution_count": 13,
   "metadata": {},
   "outputs": [
    {
     "name": "stdout",
     "output_type": "stream",
     "text": [
      "Test Data\n",
      "True Positive Rate :  0.8603\n",
      "Error Rate         :  0.13970000000000005\n"
     ]
    }
   ],
   "source": [
    "print(\"Test Data\")\n",
    "print(\"True Positive Rate : \", test_tp)\n",
    "print(\"Error Rate         : \", test_err)"
   ]
  }
 ],
 "metadata": {
  "kernelspec": {
   "display_name": "Python 3",
   "language": "python",
   "name": "python3"
  },
  "language_info": {
   "codemirror_mode": {
    "name": "ipython",
    "version": 3
   },
   "file_extension": ".py",
   "mimetype": "text/x-python",
   "name": "python",
   "nbconvert_exporter": "python",
   "pygments_lexer": "ipython3",
   "version": "3.7.1"
  }
 },
 "nbformat": 4,
 "nbformat_minor": 2
}
