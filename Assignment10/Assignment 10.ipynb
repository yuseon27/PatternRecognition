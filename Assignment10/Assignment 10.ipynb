{
 "cells": [
  {
   "cell_type": "markdown",
   "metadata": {},
   "source": [
    "20163228 남유선"
   ]
  },
  {
   "cell_type": "code",
   "execution_count": 1,
   "metadata": {},
   "outputs": [],
   "source": [
    "import matplotlib.pyplot as plt\n",
    "import numpy as np\n",
    "from sklearn.metrics import confusion_matrix\n",
    "import pandas as pd"
   ]
  },
  {
   "cell_type": "markdown",
   "metadata": {},
   "source": [
    "# Read Files"
   ]
  },
  {
   "cell_type": "code",
   "execution_count": 2,
   "metadata": {},
   "outputs": [],
   "source": [
    "#\n",
    "# Read Train File\t\n",
    "#\n",
    "size_row    = 28    # height of the image\n",
    "size_col    = 28    # width of the image\n",
    "\n",
    "train_file  = \"mnist_train.csv\"\n",
    "\n",
    "handle_file = open(train_file, \"r\")\n",
    "train_data  = handle_file.readlines()\n",
    "handle_file.close()\n",
    "\n",
    "train_num   = len(train_data)\n",
    "\n",
    "train_list  = np.zeros((train_num, size_row * size_col), dtype=float)\n",
    "train_a     = np.zeros((train_num, size_row * size_col + 1), dtype=float)\n",
    "train_label = np.zeros((10, train_num), dtype=int)\n",
    "\n",
    "count = 0\n",
    "label = 2\n",
    "for line in train_data :\n",
    "    line_data = line.split(',')\n",
    "    \n",
    "    for i in range (10) :\n",
    "        if (line_data[0] == str(i)) :\n",
    "            train_label[i, count] = 1\n",
    "        else :\n",
    "            train_label[i, count] = -1\n",
    "    \n",
    "    # Image Vector\n",
    "    im_vector = np.asfarray(line_data[1:])\n",
    "    train_list[count, :] = im_vector\n",
    "    \n",
    "    train_a[count, 0]    = 1\n",
    "    train_a[count, 1:]   = im_vector\n",
    "    count += 1"
   ]
  },
  {
   "cell_type": "code",
   "execution_count": 3,
   "metadata": {},
   "outputs": [],
   "source": [
    "#\n",
    "# Read Test File\n",
    "#\n",
    "test_file   = \"mnist_test.csv\"\n",
    "\n",
    "handle_file = open(test_file, \"r\")\n",
    "test_data   = handle_file.readlines()\n",
    "handle_file.close()\n",
    "\n",
    "test_num    = len(test_data)\n",
    "\n",
    "test_list   = np.zeros((test_num, size_row * size_col), dtype=float)\n",
    "test_a      = np.zeros((test_num, size_row * size_col + 1), dtype=float)\n",
    "test_label = np.zeros((10, test_num), dtype=int)\n",
    "\n",
    "count = 0\n",
    "label = -2\n",
    "for line in test_data :\n",
    "    line_data = line.split(',')\n",
    "    \n",
    "    for i in range (10) :\n",
    "        if (line_data[0] == str(i)) :\n",
    "            test_label[i, count] = 1\n",
    "        else :\n",
    "            test_label[i, count] = -1\n",
    "    \n",
    "    im_vector = np.asfarray(line_data[1:])\n",
    "    test_list[count, :] = im_vector\n",
    "    \n",
    "    test_a[count, 0]    = 1\n",
    "    test_a[count, 1:]   = im_vector\n",
    "    count += 1"
   ]
  },
  {
   "cell_type": "markdown",
   "metadata": {},
   "source": [
    "# Calculate Pseudo Inverse"
   ]
  },
  {
   "cell_type": "code",
   "execution_count": 4,
   "metadata": {},
   "outputs": [],
   "source": [
    "class LeastSquare() :\n",
    "    \n",
    "    def __init__(self, image, label) :\n",
    "        self.image = image\n",
    "        self.label = label\n",
    "        self.n     = len(label)\n",
    "        self.m     = len(image[0])\n",
    "        \n",
    "        \n",
    "    def calculate_ata(self) :\n",
    "        self.trans_image = self.image.T\n",
    "        self.ata = np.dot(self.trans_image, self.image)\n",
    "        \n",
    "        \n",
    "    def calculate_atb(self) :\n",
    "        re_label = self.label.reshape(self.n, 1)\n",
    "        self.atb = np.dot(self.trans_image, re_label)\n",
    "        \n",
    "        \n",
    "    def calculate_theta(self) :\n",
    "        mati_ata = np.linalg.pinv(self.ata)\n",
    "        mat_atb = np.asmatrix(self.atb)\n",
    "        self.aia = np.dot(mati_ata, mat_atb)\n",
    "        \n",
    "        \n",
    "    def train(self) :\n",
    "        self.calculate_ata()\n",
    "        self.calculate_atb()\n",
    "        \n",
    "        self.calculate_theta()\n",
    "        \n",
    "        return self.aia"
   ]
  },
  {
   "cell_type": "code",
   "execution_count": 5,
   "metadata": {},
   "outputs": [],
   "source": [
    "theta = np.zeros((10, size_row * size_col + 1), dtype=float)\n",
    "for i in range (10) :\n",
    "    ls = LeastSquare(train_a, train_label[i, :])\n",
    "    setaa= ls.train()\n",
    "    theta[i] = setaa.reshape(785)"
   ]
  },
  {
   "cell_type": "code",
   "execution_count": 6,
   "metadata": {},
   "outputs": [],
   "source": [
    "def calculate_y(matrix_a, theta) :\n",
    "    result   = np.dot(matrix_a, theta)\n",
    "    y_result = np.zeros(len(matrix_a), dtype=int)\n",
    "    \n",
    "    for i in range (len(matrix_a)) :\n",
    "        if (result[i] > 0) :\n",
    "            y_result[i] = 1\n",
    "        else :\n",
    "            y_result[i] = -1\n",
    "            \n",
    "    return y_result"
   ]
  },
  {
   "cell_type": "code",
   "execution_count": 7,
   "metadata": {},
   "outputs": [],
   "source": [
    "train_pred = np.zeros((10, train_num), dtype=float)\n",
    "test_pred  = np.zeros((10, test_num), dtype=float)\n",
    "\n",
    "for i in range (10) :\n",
    "    train_pred[i] = calculate_y(train_a, theta[i])\n",
    "    test_pred[i]  = calculate_y(test_a , theta[i])"
   ]
  },
  {
   "cell_type": "markdown",
   "metadata": {},
   "source": [
    "# Calculate Accuracy"
   ]
  },
  {
   "cell_type": "code",
   "execution_count": 27,
   "metadata": {},
   "outputs": [],
   "source": [
    "def calculate_accuracy(true, pred) :\n",
    "    count = np.zeros((2, 2), dtype=float)\n",
    "    accuracy = np.zeros((2, 2), dtype=float)\n",
    "    \n",
    "    for i in range (len(true)) :\n",
    "        if ((true[i] == 1) and (pred[i] == 1)) :      # TP\n",
    "            count[0][0] += 1\n",
    "        elif ((true[i] == 1) and (pred[i] == -1)) :   # FN\n",
    "            count[0][1] += 1\n",
    "        elif ((true[i] == -1) and (pred[i] == 1)) :   # FP\n",
    "            count[1][0] += 1\n",
    "        elif ((true[i] == -1) and (pred[i] == -1)) :  # TN\n",
    "            count[1][1] += 1\n",
    "            \n",
    "    accuracy[0][0] = count[0][0] / (count[0][0] + count[0][1])\n",
    "    accuracy[0][1] = count[0][1] / (count[0][0] + count[0][1])\n",
    "    accuracy[1][0] = count[1][0] / (count[1][0] + count[1][1])\n",
    "    accuracy[1][1] = count[1][1] / (count[1][0] + count[1][1])\n",
    "\n",
    "#     show_table(accuracy)\n",
    "    tp = count[0][0] / (count[0][0] + count[0][1])\n",
    "    er = (count[0][1] + count[1][0]) / len(true)\n",
    "    \n",
    "#     print(\"True Positive Rate : \", tp)\n",
    "#     print(\"Error Rate         : \", er)\n",
    "    return tp, er"
   ]
  },
  {
   "cell_type": "code",
   "execution_count": 28,
   "metadata": {},
   "outputs": [],
   "source": [
    "def show_table(accuracy) :\n",
    "    data = {\"True Positive\" : [accuracy[0][0], accuracy[1][0], accuracy[2][0], accuracy[3][0], accuracy[4][0], accuracy[5][0], accuracy[6][0], accuracy[7][0], accuracy[8][0], accuracy[9][0]], \n",
    "            \"Error Rate\"         : [accuracy[0][1], accuracy[1][1], accuracy[2][1], accuracy[3][1], accuracy[4][1], accuracy[5][1], accuracy[6][1], accuracy[7][1], accuracy[8][1], accuracy[9][1]]}\n",
    "    df = pd.DataFrame(data, columns=[\"True Positive\", \"Error Rate\"], index=[0, 1, 2, 3, 4, 5, 6, 7, 8, 9])\n",
    "    print(df)"
   ]
  },
  {
   "cell_type": "code",
   "execution_count": 29,
   "metadata": {},
   "outputs": [
    {
     "name": "stdout",
     "output_type": "stream",
     "text": [
      "   True Positive  Error Rate\n",
      "0       0.872531    0.015567\n",
      "1       0.909522    0.019017\n",
      "2       0.660121    0.037667\n",
      "3       0.625999    0.042233\n",
      "4       0.690688    0.033783\n",
      "5       0.441063    0.055567\n",
      "6       0.838459    0.021667\n",
      "7       0.723703    0.033983\n",
      "8       0.511366    0.051350\n",
      "9       0.523281    0.055633\n"
     ]
    }
   ],
   "source": [
    "train_accuracy = np.zeros((10, 2), dtype=float)\n",
    "for i in range(10) :\n",
    "#     print(\"\\n<<\", i, \">>\")\n",
    "    train_accuracy[i][0], train_accuracy[i][1] = calculate_accuracy(train_label[i], train_pred[i])\n",
    "show_table(train_accuracy)"
   ]
  },
  {
   "cell_type": "code",
   "execution_count": 30,
   "metadata": {},
   "outputs": [
    {
     "name": "stdout",
     "output_type": "stream",
     "text": [
      "   True Positive  Error Rate\n",
      "0       0.883673      0.0157\n",
      "1       0.911894      0.0166\n",
      "2       0.624031      0.0416\n",
      "3       0.648515      0.0398\n",
      "4       0.697556      0.0335\n",
      "5       0.461883      0.0536\n",
      "6       0.805846      0.0260\n",
      "7       0.714981      0.0354\n",
      "8       0.517454      0.0510\n",
      "9       0.555005      0.0520\n"
     ]
    }
   ],
   "source": [
    "test_accuracy = np.zeros((10, 2), dtype=float)\n",
    "for i in range(10) :\n",
    "#     print(\"\\n<<\", i, \">>\")\n",
    "    test_accuracy[i][0], test_accuracy[i][1] = calculate_accuracy(test_label[i], test_pred[i])\n",
    "show_table(test_accuracy)"
   ]
  }
 ],
 "metadata": {
  "kernelspec": {
   "display_name": "Python 3",
   "language": "python",
   "name": "python3"
  },
  "language_info": {
   "codemirror_mode": {
    "name": "ipython",
    "version": 3
   },
   "file_extension": ".py",
   "mimetype": "text/x-python",
   "name": "python",
   "nbconvert_exporter": "python",
   "pygments_lexer": "ipython3",
   "version": "3.7.1"
  }
 },
 "nbformat": 4,
 "nbformat_minor": 2
}
