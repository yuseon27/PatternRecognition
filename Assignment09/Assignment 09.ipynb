{
 "cells": [
  {
   "cell_type": "markdown",
   "metadata": {},
   "source": [
    "20163228 Yuseon Nam"
   ]
  },
  {
   "cell_type": "code",
   "execution_count": 1,
   "metadata": {},
   "outputs": [],
   "source": [
    "import matplotlib.pyplot as plt\n",
    "import numpy as np\n",
    "from sklearn.metrics import confusion_matrix\n",
    "import pandas as pd"
   ]
  },
  {
   "cell_type": "markdown",
   "metadata": {},
   "source": [
    "# Read Files"
   ]
  },
  {
   "cell_type": "code",
   "execution_count": 2,
   "metadata": {},
   "outputs": [],
   "source": [
    "#\n",
    "# Read Train File\t\n",
    "#\n",
    "size_row    = 28    # height of the image\n",
    "size_col    = 28    # width of the image\n",
    "\n",
    "train_file = \"mnist_train.csv\"\n",
    "\n",
    "handle_file = open(train_file, \"r\")\n",
    "train_data  = handle_file.readlines()\n",
    "handle_file.close()\n",
    "\n",
    "train_num   = len(train_data)\n",
    "\n",
    "train_list  = np.zeros((train_num, size_row * size_col), dtype=float)\n",
    "train_label = np.zeros(train_num, dtype=int)\n",
    "train_a     = np.zeros((train_num, size_row * size_col + 1), dtype=float)\n",
    "\n",
    "count = 0\n",
    "label = 2\n",
    "for line in train_data :\n",
    "    line_data = line.split(',')\n",
    "    \n",
    "    if (line_data[0] == '0') :\n",
    "        label = 1\n",
    "    else :\n",
    "        label = -1\n",
    "    \n",
    "    im_vector = np.asfarray(line_data[1:])\n",
    "    \n",
    "    train_label[count]   = label\n",
    "    train_list[count, :] = im_vector\n",
    "    \n",
    "    train_a[count, 0]    = 1\n",
    "    train_a[count, 1:]   = im_vector\n",
    "    count += 1"
   ]
  },
  {
   "cell_type": "code",
   "execution_count": 3,
   "metadata": {},
   "outputs": [],
   "source": [
    "#\n",
    "# Read Test File\n",
    "#\n",
    "test_file  = \"mnist_test.csv\"\n",
    "\n",
    "handle_file = open(test_file, \"r\")\n",
    "test_data  = handle_file.readlines()\n",
    "handle_file.close()\n",
    "\n",
    "test_num   = len(test_data)\n",
    "\n",
    "test_list  = np.zeros((test_num, size_row * size_col), dtype=float)\n",
    "test_label = np.zeros(test_num, dtype=int)\n",
    "test_a     = np.zeros((test_num, size_row * size_col + 1), dtype=float)\n",
    "\n",
    "count = 0\n",
    "label = -2\n",
    "for line in test_data :\n",
    "    line_data = line.split(',')\n",
    "    \n",
    "    if (line_data[0] == '0') :\n",
    "        label = 1\n",
    "    else :\n",
    "        label = -1\n",
    "    \n",
    "    im_vector = np.asfarray(line_data[1:])\n",
    "    \n",
    "    test_label[count]   = label\n",
    "    test_list[count, :] = im_vector\n",
    "    \n",
    "    test_a[count, 0]  = 1\n",
    "    test_a[count, 1:] = im_vector\n",
    "    count += 1"
   ]
  },
  {
   "cell_type": "code",
   "execution_count": 4,
   "metadata": {},
   "outputs": [],
   "source": [
    "real_train_data = np.zeros((train_num, size_row * size_col + 1), dtype=float)\n",
    "real_test_data  = np.zeros((test_num, size_row * size_col + 1), dtype=float)\n",
    "    \n",
    "def divide_train_test() :\n",
    "    train_90 = train_num * 90\n",
    "    test_60  = test_num * 60\n",
    "    \n",
    "    real_train_data[0:train_90, :] = copy.deepcopy(train_data[0:train_90, :])\n",
    "    real_train_data[train_90: , :] = copy.deepcopy(test_data[0:test_60, :])\n",
    "    \n",
    "    real_test_data[0:test_60, :] = copy.deepcopy(train_data[train_90:, :])\n",
    "    real_test_data[test_60: , :] = copy.deepcopy(test_data[test_60:, :])\n",
    "    "
   ]
  },
  {
   "cell_type": "markdown",
   "metadata": {},
   "source": [
    "# Calculate Pseudo Inverse"
   ]
  },
  {
   "cell_type": "code",
   "execution_count": 5,
   "metadata": {},
   "outputs": [],
   "source": [
    "class LeastSquare() :\n",
    "    \n",
    "    def __init__(self, image, label) :\n",
    "        self.image = image\n",
    "        self.label = label\n",
    "        self.n     = len(label)\n",
    "        self.m     = len(image[0])\n",
    "        \n",
    "        \n",
    "    def calculate_ata(self) :\n",
    "        self.trans_image = self.image.T\n",
    "        self.ata = np.dot(self.trans_image, self.image)\n",
    "        \n",
    "        \n",
    "    def calculate_atb(self) :\n",
    "        re_label = self.label.reshape(self.n, 1)\n",
    "        self.atb = np.dot(self.trans_image, re_label)\n",
    "        \n",
    "        \n",
    "    def calculate_theta(self) :\n",
    "        mati_ata = np.linalg.pinv(self.ata)\n",
    "        mat_atb = np.asmatrix(self.atb)\n",
    "        self.aia = np.dot(mati_ata, mat_atb)\n",
    "        \n",
    "        \n",
    "    def train(self) :\n",
    "        self.calculate_ata()\n",
    "        self.calculate_atb()\n",
    "        \n",
    "        self.calculate_theta()\n",
    "        \n",
    "        return self.aia"
   ]
  },
  {
   "cell_type": "code",
   "execution_count": 6,
   "metadata": {},
   "outputs": [],
   "source": [
    "ls = LeastSquare(train_a, train_label)\n",
    "theta = ls.train()"
   ]
  },
  {
   "cell_type": "code",
   "execution_count": 7,
   "metadata": {},
   "outputs": [],
   "source": [
    "def calculate_y(matrix_a, theta) :\n",
    "    result   = np.dot(matrix_a, theta)\n",
    "    y_result = np.zeros(len(matrix_a), dtype=int)\n",
    "    \n",
    "    for i in range (len(matrix_a)) :\n",
    "        if (result[i][0] > 0) :\n",
    "            y_result[i] = 1\n",
    "        else :\n",
    "            y_result[i] = -1\n",
    "            \n",
    "    return y_result\n",
    "    "
   ]
  },
  {
   "cell_type": "code",
   "execution_count": 8,
   "metadata": {},
   "outputs": [
    {
     "name": "stdout",
     "output_type": "stream",
     "text": [
      "[-1  1 -1 ... -1 -1 -1]\n",
      "[-1 -1 -1 ... -1 -1 -1]\n"
     ]
    }
   ],
   "source": [
    "train_pred = calculate_y(train_a, theta)\n",
    "test_pred = calculate_y(test_a, theta)\n",
    "\n",
    "print(train_pred)\n",
    "print(test_pred)\n"
   ]
  },
  {
   "cell_type": "markdown",
   "metadata": {},
   "source": [
    "# Calculate Accuracy"
   ]
  },
  {
   "cell_type": "code",
   "execution_count": 9,
   "metadata": {
    "scrolled": true
   },
   "outputs": [],
   "source": [
    "train_result = confusion_matrix(train_label, train_pred)\n",
    "test_result  = confusion_matrix(test_label, test_pred)"
   ]
  },
  {
   "cell_type": "code",
   "execution_count": 10,
   "metadata": {},
   "outputs": [],
   "source": [
    "def calculate_accuracy(matrix) :\n",
    "    accuracy = np.zeros((2, 2), dtype=float)\n",
    "    \n",
    "    accuracy[0][0] = matrix[1][1] / (matrix[1][0] + matrix[1][1])\n",
    "    accuracy[0][1] = matrix[1][0] / (matrix[1][0] + matrix[1][1])\n",
    "    accuracy[1][0] = matrix[0][1] / (matrix[0][0] + matrix[0][1])\n",
    "    accuracy[1][1] = matrix[0][0] / (matrix[0][0] + matrix[0][1])\n",
    "    \n",
    "    show_table(accuracy)\n",
    "    "
   ]
  },
  {
   "cell_type": "code",
   "execution_count": 11,
   "metadata": {},
   "outputs": [],
   "source": [
    "def calculate_accuracy_manually(true, pred) :\n",
    "    count = np.zeros((2, 2), dtype=float)\n",
    "    accuracy = np.zeros((2, 2), dtype=float)\n",
    "    \n",
    "    for i in range (len(true)) :\n",
    "        if ((true[i] == 1) and (pred[i] == 1)) :      # TP\n",
    "            count[0][0] += 1\n",
    "        elif ((true[i] == 1) and (pred[i] == -1)) :   # FN\n",
    "            count[0][1] += 1\n",
    "        elif ((true[i] == -1) and (pred[i] == 1)) :   # FP\n",
    "            count[1][0] += 1\n",
    "        elif ((true[i] == -1) and (pred[i] == -1)) :  # TN\n",
    "            count[1][1] += 1\n",
    "            \n",
    "    accuracy[0][0] = count[0][0] / (count[0][0] + count[0][1])\n",
    "    accuracy[0][1] = count[0][1] / (count[0][0] + count[0][1])\n",
    "    accuracy[1][0] = count[1][0] / (count[1][0] + count[1][1])\n",
    "    accuracy[1][1] = count[1][1] / (count[1][0] + count[1][1])\n",
    "    \n",
    "    show_table(accuracy)"
   ]
  },
  {
   "cell_type": "code",
   "execution_count": 12,
   "metadata": {},
   "outputs": [],
   "source": [
    "def show_table(accuracy) :\n",
    "    data = {\"True\" : [accuracy[0][0], accuracy[1][1]], \"False\" : [accuracy[0][1], accuracy[1][0]]}\n",
    "    df = pd.DataFrame(data, columns=[\"True\", \"False\"], index=[\"Positive\", \"Negative\"])\n",
    "    print(df)"
   ]
  },
  {
   "cell_type": "markdown",
   "metadata": {},
   "source": [
    "## Accuracy for Train Data"
   ]
  },
  {
   "cell_type": "code",
   "execution_count": 13,
   "metadata": {},
   "outputs": [
    {
     "name": "stdout",
     "output_type": "stream",
     "text": [
      "              True     False\n",
      "Positive  0.872531  0.127469\n",
      "Negative  0.996690  0.003310\n"
     ]
    }
   ],
   "source": [
    "calculate_accuracy(train_result)"
   ]
  },
  {
   "cell_type": "code",
   "execution_count": 14,
   "metadata": {},
   "outputs": [
    {
     "name": "stdout",
     "output_type": "stream",
     "text": [
      "              True     False\n",
      "Positive  0.872531  0.127469\n",
      "Negative  0.996690  0.003310\n"
     ]
    }
   ],
   "source": [
    "calculate_accuracy_manually(train_label, train_pred)"
   ]
  },
  {
   "cell_type": "markdown",
   "metadata": {},
   "source": [
    "## Accuracy for Test Data"
   ]
  },
  {
   "cell_type": "code",
   "execution_count": 15,
   "metadata": {},
   "outputs": [
    {
     "name": "stdout",
     "output_type": "stream",
     "text": [
      "              True     False\n",
      "Positive  0.883673  0.116327\n",
      "Negative  0.995233  0.004767\n"
     ]
    }
   ],
   "source": [
    "calculate_accuracy(test_result)"
   ]
  },
  {
   "cell_type": "code",
   "execution_count": 16,
   "metadata": {},
   "outputs": [
    {
     "name": "stdout",
     "output_type": "stream",
     "text": [
      "              True     False\n",
      "Positive  0.883673  0.116327\n",
      "Negative  0.995233  0.004767\n"
     ]
    }
   ],
   "source": [
    "calculate_accuracy_manually(test_label, test_pred)"
   ]
  }
 ],
 "metadata": {
  "kernelspec": {
   "display_name": "Python 3",
   "language": "python",
   "name": "python3"
  },
  "language_info": {
   "codemirror_mode": {
    "name": "ipython",
    "version": 3
   },
   "file_extension": ".py",
   "mimetype": "text/x-python",
   "name": "python",
   "nbconvert_exporter": "python",
   "pygments_lexer": "ipython3",
   "version": "3.7.1"
  }
 },
 "nbformat": 4,
 "nbformat_minor": 2
}
