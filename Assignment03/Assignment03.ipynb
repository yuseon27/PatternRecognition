{
 "cells": [
  {
   "cell_type": "markdown",
   "metadata": {},
   "source": [
    "20163228 Yuseon Nam"
   ]
  },
  {
   "cell_type": "code",
   "execution_count": 1,
   "metadata": {},
   "outputs": [],
   "source": [
    "import matplotlib.pyplot as plt\n",
    "import numpy as np\n",
    "\n",
    "#\n",
    "# Normalize the values of the input data to be [0, 1]\n",
    "#\n",
    "def normalize(data):\n",
    "\n",
    "    data_normalized = (data - min(data)) / (max(data) - min(data))\n",
    "\n",
    "    return(data_normalized)\n",
    "\n",
    "#\n",
    "# Sum of square of image matrix (L2-Norm)\n",
    "# new_sum = x1^2 + x2^2 + ... + xn^2 + xnew^2\n",
    "#\n",
    "def sum_img_list(new_img_list, sum_2):\n",
    "    \n",
    "    new_sum = sum_2 + new_img_list ** 2\n",
    "    \n",
    "    return (new_sum)\n",
    "\n",
    "#\n",
    "# Read Train File\t\n",
    "#\n",
    "file_data   = \"mnist_train.csv\"\n",
    "handle_file = open(file_data, \"r\")\n",
    "data        = handle_file.readlines()\n",
    "handle_file.close()\n",
    "\n",
    "size_row    = 28    # height of the image\n",
    "size_col    = 28    # width of the image\n",
    "\n",
    "num_image   = len(data)\n",
    "count       = 0     # count for the number of images\n",
    "\n",
    "#\n",
    "# 1. Read a line from data\n",
    "# 2. Get a label from line\n",
    "# 3. Add 1 to count the number of each label\n",
    "# 4. Get a image vector from line\n",
    "# 5. Normalize the vector \n",
    "# 6. Get the sum(L2-Norm) of image vector of certain label\n",
    "#\n",
    "\n",
    "# sum image vector of each label(0-9) in array form (label, 28 * 28)\n",
    "sum_img_vector = np.empty((10, size_row * size_col), dtype=float)\n",
    "num_count      = np.empty(10, dtype=int)\t# count for each label(0-9)\n",
    "\n",
    "for line in data:\n",
    "\n",
    "    line_data         = line.split(',')    # len(line_data) = 784\n",
    "    label             = line_data[0]\n",
    "    label             = int(label)\n",
    "    num_count[label] += 1\n",
    "    \n",
    "    im_vector = np.asfarray(line_data[1:])\n",
    "    im_vector = normalize(im_vector)\n",
    "    sum_img_vector[label, :] = sum_img_list(im_vector, sum_img_vector[label, :])\n",
    "    \n",
    "    \n",
    "#\n",
    "# Get average image matrix of each label by calculating sqrt(sum / count)\n",
    "# And reshape vector(28*28) to matrix(28, 28)\n",
    "#\n",
    "\n",
    "# average image matrix of each label(0-9) in array form (label, 28, 28)\n",
    "avg_img_matrix = np.empty((10, size_row, size_col), dtype=float)\n",
    "for i in range(10) :\n",
    "    sum_img_vector[i, :]    = (sum_img_vector[i, :] / num_count[i]) ** 0.5\n",
    "    avg_img_matrix[i, :, :] = sum_img_vector[i, :].reshape(size_row, size_col)\n",
    "        "
   ]
  },
  {
   "cell_type": "code",
   "execution_count": 2,
   "metadata": {},
   "outputs": [
    {
     "data": {
      "image/png": "[encoded data removed]",
      "text/plain": [
       "<Figure size 1440x144 with 10 Axes>"
      ]
     },
     "metadata": {
      "needs_background": "light"
     },
     "output_type": "display_data"
    }
   ],
   "source": [
    "# \n",
    "# Plot average image of each number (0-9)\n",
    "# \n",
    "f2 = plt.figure(figsize=(20,2))\n",
    "\n",
    "for i in range(10):\n",
    "    plt.subplot(1, 10, i+1)\n",
    "    plt.title(i)\n",
    "    plt.imshow(avg_img_matrix[i, : , :], cmap='Greys', interpolation='None')\n",
    "\n",
    "    frame = plt.gca()\n",
    "    frame.axes.get_xaxis().set_visible(False)\n",
    "    frame.axes.get_yaxis().set_visible(False)\n",
    "\n",
    "plt.show()"
   ]
  }
 ],
 "metadata": {
  "kernelspec": {
   "display_name": "Python 3",
   "language": "python",
   "name": "python3"
  },
  "language_info": {
   "codemirror_mode": {
    "name": "ipython",
    "version": 3
   },
   "file_extension": ".py",
   "mimetype": "text/x-python",
   "name": "python",
   "nbconvert_exporter": "python",
   "pygments_lexer": "ipython3",
   "version": "3.7.1"
  }
 },
 "nbformat": 4,
 "nbformat_minor": 2
}
