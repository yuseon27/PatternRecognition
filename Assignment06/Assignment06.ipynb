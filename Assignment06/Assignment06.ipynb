{
 "cells": [
  {
   "cell_type": "markdown",
   "metadata": {},
   "source": [
    "# 20163228 Yuseon Nam"
   ]
  },
  {
   "cell_type": "code",
   "execution_count": 1,
   "metadata": {},
   "outputs": [],
   "source": [
    "import numpy as np\n",
    "import matplotlib.pyplot as plt\n",
    "import random\n",
    "import copy\n",
    "import math"
   ]
  },
  {
   "cell_type": "code",
   "execution_count": 2,
   "metadata": {},
   "outputs": [],
   "source": [
    "# Make x and y domain matrix\n",
    "def make_domain_matrix() :\n",
    "    x_matrix = np.zeros((M, N), dtype=\"int\")\n",
    "    y_matrix = np.zeros((M, N), dtype=\"int\")\n",
    "    \n",
    "    for i in range(M) :\n",
    "        x_matrix[i, :] = i\n",
    "    \n",
    "    for j in range(N) :\n",
    "        y_matrix[:, j] = j\n",
    "\n",
    "    return (x_matrix, y_matrix)\n",
    "    \n",
    "# Distance function between two vectors x and y by L1 Norm\n",
    "def distance_L1(x, y, c) :\n",
    "    dx = abs(x - c[0])\n",
    "    dy = abs(y - c[1])\n",
    "    s = dx + dy\n",
    "    \n",
    "    return (s)\n",
    "\n",
    "# Distance function between two vectors x and y by L2 Norm\n",
    "def distance_L2(x, y, c):\n",
    "\n",
    "    dx = (x - c[0]) ** 2\n",
    "    dy = (y - c[1]) ** 2\n",
    "    s = dx + dy\n",
    "    \n",
    "    return(s)\n",
    "\n",
    "# Plot image\n",
    "def plot_image(label, k) :\n",
    "    \n",
    "    plt.imshow(label, cmap=plt.cm.get_cmap('gist_ncar', k))\n",
    "    plt.colorbar(ticks=range(k), format='color: %d')\n",
    "    plt.axis('off')\n",
    "    \n"
   ]
  },
  {
   "cell_type": "code",
   "execution_count": 3,
   "metadata": {},
   "outputs": [],
   "source": [
    "class KMeans() :\n",
    "    def __init__ (self, k) :\n",
    "        self.k = k\n",
    "        self.centroid_xy    = np.zeros((self.k, 2), dtype=\"float\")\n",
    "        self.centroid_count = np.zeros(self.k, dtype=\"int\")\n",
    "        \n",
    "    def init_centroid(self) :\n",
    "        for i in range(M) :\n",
    "            for j in range(N) :\n",
    "                rand_label = random.randint(0, self.k-1)\n",
    "                self.cur_label[i][j] = rand_label\n",
    "                \n",
    "                \n",
    "    def update_centroid(self) :\n",
    "        self.centroid_xy    = np.zeros((self.k, 2), dtype=\"float\")\n",
    "        self.centroid_count = np.zeros(self.k, dtype=\"int\")\n",
    "        \n",
    "        # Sum all x and y by label\n",
    "        for i in range (M) :\n",
    "            for j in range (N) :\n",
    "                label = self.cur_label[i][j]\n",
    "                self.centroid_xy[label, 0] += i\n",
    "                self.centroid_xy[label, 1] += j\n",
    "                self.centroid_count[label] += 1\n",
    "\n",
    "                \n",
    "        # Divide sum of centroid by count\n",
    "        for i in range (self.k) :\n",
    "            if (self.centroid_count[i] != 0) :\n",
    "                self.centroid_xy[i , :] /= self.centroid_count[i]\n",
    "\n",
    "    \n",
    "    def labeling(self, norm) :\n",
    "        # Label for each entry\n",
    "        for i in range (M) :\n",
    "            for j in range (N) :\n",
    "                \n",
    "                # Calculate distance between each centroid and entry\n",
    "                dist_sum = []\n",
    "                for t in range (self.k) :\n",
    "                    if (norm == 1) :  \n",
    "                        dist_sum.append(distance_L1(i, j, self.centroid_xy[t, :]))\n",
    "                    elif (norm == 2) :\n",
    "                        dist_sum.append(distance_L2(i, j, self.centroid_xy[t, :]))\n",
    "                        \n",
    "                # Find minimum distance and its index\n",
    "                min_dist  = min(dist_sum)\n",
    "                min_index = dist_sum.index(min_dist)\n",
    "                \n",
    "                # Put index in the label\n",
    "                self.cur_label[i][j] = min_index\n",
    "                \n",
    "                \n",
    "    def train(self, norm) :\n",
    "        self.cur_label  = np.zeros((M, N), dtype=\"int\")\n",
    "        self.prev_label = np.zeros((M, N), dtype=\"int\")\n",
    "        \n",
    "        self.init_centroid()\n",
    "        \n",
    "        while not (np.array_equal(self.cur_label, self.prev_label)) :\n",
    "            \n",
    "            self.update_centroid()\n",
    "            \n",
    "            self.prev_label = copy.deepcopy(self.cur_label)\n",
    "            \n",
    "            self.labeling(norm)\n",
    "        \n",
    "        return (self.cur_label)"
   ]
  },
  {
   "cell_type": "code",
   "execution_count": 4,
   "metadata": {},
   "outputs": [],
   "source": [
    "# Number of rows(M) and columns(N)\n",
    "M = 50\n",
    "N = 50\n",
    "\n",
    "# Make x and y domain matrix\n",
    "x_matrix, y_matrix = make_domain_matrix()"
   ]
  },
  {
   "cell_type": "markdown",
   "metadata": {},
   "source": [
    "## K = 3\n",
    "### L1 Norm"
   ]
  },
  {
   "cell_type": "code",
   "execution_count": 5,
   "metadata": {},
   "outputs": [
    {
     "data": {
      "image/png": "[encoded data removed]",
      "text/plain": [
       "<Figure size 432x288 with 2 Axes>"
      ]
     },
     "metadata": {
      "needs_background": "light"
     },
     "output_type": "display_data"
    }
   ],
   "source": [
    "k_num = 3\n",
    "k_means= KMeans(k_num)\n",
    "k_num_label = k_means.train(1)\n",
    "\n",
    "plot_image(k_num_label, k_num)"
   ]
  },
  {
   "cell_type": "markdown",
   "metadata": {},
   "source": [
    "### L2 Norm"
   ]
  },
  {
   "cell_type": "code",
   "execution_count": 6,
   "metadata": {},
   "outputs": [
    {
     "data": {
      "image/png": "[encoded data removed]",
      "text/plain": [
       "<Figure size 432x288 with 2 Axes>"
      ]
     },
     "metadata": {
      "needs_background": "light"
     },
     "output_type": "display_data"
    }
   ],
   "source": [
    "k_means= KMeans(k_num)\n",
    "k_num_label = k_means.train(2)\n",
    "\n",
    "plot_image(k_num_label, k_num)"
   ]
  },
  {
   "cell_type": "markdown",
   "metadata": {},
   "source": [
    "## K = 8\n",
    "### L1 Norm"
   ]
  },
  {
   "cell_type": "code",
   "execution_count": 7,
   "metadata": {},
   "outputs": [
    {
     "data": {
      "image/png": "[encoded data removed]",
      "text/plain": [
       "<Figure size 432x288 with 2 Axes>"
      ]
     },
     "metadata": {
      "needs_background": "light"
     },
     "output_type": "display_data"
    }
   ],
   "source": [
    "k_num = 8\n",
    "k_means= KMeans(k_num)\n",
    "k_num_label = k_means.train(1)\n",
    "\n",
    "plot_image(k_num_label, k_num)"
   ]
  },
  {
   "cell_type": "markdown",
   "metadata": {},
   "source": [
    "### L2 Norm"
   ]
  },
  {
   "cell_type": "code",
   "execution_count": 8,
   "metadata": {},
   "outputs": [
    {
     "data": {
      "image/png": "[encoded data removed]",
      "text/plain": [
       "<Figure size 432x288 with 2 Axes>"
      ]
     },
     "metadata": {
      "needs_background": "light"
     },
     "output_type": "display_data"
    }
   ],
   "source": [
    "k_means= KMeans(k_num)\n",
    "k_num_label = k_means.train(2)\n",
    "\n",
    "plot_image(k_num_label, k_num)"
   ]
  },
  {
   "cell_type": "markdown",
   "metadata": {},
   "source": [
    "## K = 16\n",
    "### L1 Norm"
   ]
  },
  {
   "cell_type": "code",
   "execution_count": 9,
   "metadata": {},
   "outputs": [
    {
     "data": {
      "image/png": "[encoded data removed]",
      "text/plain": [
       "<Figure size 432x288 with 2 Axes>"
      ]
     },
     "metadata": {
      "needs_background": "light"
     },
     "output_type": "display_data"
    }
   ],
   "source": [
    "k_num = 16\n",
    "k_means= KMeans(k_num)\n",
    "k_num_label = k_means.train(1)\n",
    "\n",
    "plot_image(k_num_label, k_num)"
   ]
  },
  {
   "cell_type": "markdown",
   "metadata": {},
   "source": [
    "### L2 Norm"
   ]
  },
  {
   "cell_type": "code",
   "execution_count": 10,
   "metadata": {},
   "outputs": [
    {
     "data": {
      "image/png": "[encoded data removed]",
      "text/plain": [
       "<Figure size 432x288 with 2 Axes>"
      ]
     },
     "metadata": {
      "needs_background": "light"
     },
     "output_type": "display_data"
    }
   ],
   "source": [
    "k_means= KMeans(k_num)\n",
    "k_num_label = k_means.train(2)\n",
    "\n",
    "plot_image(k_num_label, k_num)"
   ]
  }
 ],
 "metadata": {
  "kernelspec": {
   "display_name": "Python 3",
   "language": "python",
   "name": "python3"
  },
  "language_info": {
   "codemirror_mode": {
    "name": "ipython",
    "version": 3
   },
   "file_extension": ".py",
   "mimetype": "text/x-python",
   "name": "python",
   "nbconvert_exporter": "python",
   "pygments_lexer": "ipython3",
   "version": "3.7.1"
  }
 },
 "nbformat": 4,
 "nbformat_minor": 2
}
